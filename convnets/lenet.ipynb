{
 "cells": [
  {
   "cell_type": "markdown",
   "metadata": {},
   "source": [
    "This notebook demonstrates the LeNet model.\n",
    "\n",
    "To see the other files used by lenet.py run these commands in new cells: '%load logistic_sgd.py' or '%load mlp.py'.\n",
    "\n",
    "Some possible things you can try:\n",
    "- change the non linearity of the convolution to rectifier unit.\n",
    "- add an extra mlp layer.\n",
    "- limit the number of epoch of training to allow iterating more rapidly on code change."
   ]
  },
  {
   "cell_type": "code",
   "execution_count": null,
   "metadata": {
    "collapsed": false
   },
   "outputs": [],
   "source": [
    "# If you have a compatible gpu on your laptop, run this cell to enable it.\n",
    "import theano.sandbox.cuda\n",
    "theano.config.floatX='float32'\n",
    "theano.sandbox.cuda.use('gpu')"
   ]
  },
  {
   "cell_type": "markdown",
   "metadata": {},
   "source": [
    "This cell will load the lenet code into the notebook so that you can run it and play with it.\n",
    "\n",
    "You can copy the %load statement in another cell to get another copy of the original code."
   ]
  },
  {
   "cell_type": "code",
   "execution_count": null,
   "metadata": {
    "collapsed": false
   },
   "outputs": [],
   "source": [
    "%load lenet.py"
   ]
  },
  {
   "cell_type": "markdown",
   "metadata": {},
   "source": [
    "This cell runs the model and allows you to play with a few hyperparameters.  The ones below take about ?? minutes to run."
   ]
  },
  {
   "cell_type": "code",
   "execution_count": null,
   "metadata": {
    "collapsed": false
   },
   "outputs": [],
   "source": [
    "evaluate_lenet5(learning_rate=0.1, n_epochs=200,\n",
    "                dataset='mnist.pkl.gz',\n",
    "                nkerns=[20, 50], batch_size=500)"
   ]
  }
 ],
 "metadata": {
  "kernelspec": {
   "display_name": "Python 2",
   "language": "python",
   "name": "python2"
  },
  "language_info": {
   "codemirror_mode": {
    "name": "ipython",
    "version": 2
   },
   "file_extension": ".py",
   "mimetype": "text/x-python",
   "name": "python",
   "nbconvert_exporter": "python",
   "pygments_lexer": "ipython2",
   "version": "2.7.10"
  }
 },
 "nbformat": 4,
 "nbformat_minor": 0
}
